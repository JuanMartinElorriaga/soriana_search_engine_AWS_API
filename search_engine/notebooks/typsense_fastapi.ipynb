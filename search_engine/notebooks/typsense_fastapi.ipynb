{
 "cells": [
  {
   "cell_type": "code",
   "execution_count": 23,
   "id": "rural-upset",
   "metadata": {},
   "outputs": [],
   "source": [
    "#from mangum import Mangum\n",
    "import typesense\n",
    "from fastapi import FastAPI"
   ]
  },
  {
   "cell_type": "markdown",
   "id": "favorite-vulnerability",
   "metadata": {},
   "source": [
    "## Typesense\n",
    "- api_key: 'JpzBUlniOxrDTZrbnu4C3JYwPVM17XTq',\n",
    "- cluster: 'axb2vlh0spjudi31p-1.a1.typesense.net'"
   ]
  },
  {
   "cell_type": "code",
   "execution_count": 24,
   "id": "atmospheric-baltimore",
   "metadata": {},
   "outputs": [],
   "source": [
    "client = typesense.Client({\n",
    "    'nodes': [{\n",
    "    'host': 'axb2vlh0spjudi31p-1.a1.typesense.net',  # For Typesense Cloud use xxx.a1.typesense.net\n",
    "    'port': '443',       # For Typesense Cloud use 443\n",
    "    'protocol': 'https'    # For Typesense Cloud use https\n",
    "  }],\n",
    "  'api_key': \"JpzBUlniOxrDTZrbnu4C3JYwPVM17XTq\"\n",
    "  #'connection_timeout_seconds': 2\n",
    "})"
   ]
  },
  {
   "cell_type": "code",
   "execution_count": 4,
   "id": "adjacent-tiger",
   "metadata": {
    "collapsed": true,
    "jupyter": {
     "outputs_hidden": true
    },
    "tags": []
   },
   "outputs": [
    {
     "name": "stdout",
     "output_type": "stream",
     "text": [
      "{'facet_counts': [], 'found': 3, 'hits': [{'document': {'About Products': 'Make sure this fits by entering your model number. | Snap circuits mini kits classpack provides basic electronic circuitry activities for students in grades 2-6 | Includes 5 separate mini building kits- an FM radio, a motion detector, music box, space battle sound effects, and a flying saucer | Each kit includes separate components and instructions to build | Each component represents one function in a circuit; components snap together to create working models of everyday electronic devices | Activity guide provides additional projects to teach students how circuitry works', 'Brand Name': '', 'Category': 'Toys & Games | Learning & Education | Science Kits & Toys', 'Color': '', 'Product Details': '', 'Product Name': 'Electronic Snap Circuits Mini Kits Classpack, FM Radio, Motion Detector, Music Box (Set of 5)', 'Quantity': 0, 'Selling Price': '$99.95', 'Uniq Id': '66d49bbed043f5be260fa9f7fbff5957', 'id': '36248'}, 'highlights': [{'field': 'Uniq Id', 'matched_tokens': ['66d49bbed043f5be260fa9f7fbff5957'], 'snippet': '<mark>66d49bbed043f5be260fa9f7fbff5957</mark>'}], 'text_match': 130916}, {'document': {'About Products': 'Make sure this fits by entering your model number. | Snap circuits mini kits classpack provides basic electronic circuitry activities for students in grades 2-6 | Includes 5 separate mini building kits- an FM radio, a motion detector, music box, space battle sound effects, and a flying saucer | Each kit includes separate components and instructions to build | Each component represents one function in a circuit; components snap together to create working models of everyday electronic devices | Activity guide provides additional projects to teach students how circuitry works', 'Brand Name': '', 'Category': 'Toys & Games | Learning & Education | Science Kits & Toys', 'Color': '', 'Product Details': '', 'Product Name': 'Electronic Snap Circuits Mini Kits Classpack, FM Radio, Motion Detector, Music Box (Set of 5)', 'Quantity': 0, 'Selling Price': '$99.95', 'Uniq Id': '66d49bbed043f5be260fa9f7fbff5957', 'id': '36228'}, 'highlights': [{'field': 'Uniq Id', 'matched_tokens': ['66d49bbed043f5be260fa9f7fbff5957'], 'snippet': '<mark>66d49bbed043f5be260fa9f7fbff5957</mark>'}], 'text_match': 130916}, {'document': {'About Products': 'Make sure this fits by e…nts how circuitry works', 'Brand Name': 'ESC', 'Category': 'Toys & Games | Learning …n | Science Kits & Toys', 'Color': 'Blue', 'Product Details': '', 'Product Name': 'Electronic Snap Circuits…r, Music Box (Set of 5)', 'Quantity': 0, 'Selling Price': '$99.95', 'Uniq Id': '66d49bbed043f5be260fa9f7fbff5957', 'id': '0'}, 'highlights': [{'field': 'Uniq Id', 'matched_tokens': ['66d49bbed043f5be260fa9f7fbff5957'], 'snippet': '<mark>66d49bbed043f5be260fa9f7fbff5957</mark>'}], 'text_match': 130916}], 'out_of': 9991, 'page': 1, 'request_params': {'collection_name': 'products', 'per_page': 10, 'q': '66d49bbed043f5be260fa9f7fbff5957'}, 'search_time_ms': 3}\n"
     ]
    }
   ],
   "source": [
    "print(client.collections['products'].documents.search({\n",
    "    'q': '66d49bbed043f5be260fa9f7fbff5957',\n",
    "    'query_by': 'Uniq Id'\n",
    "}))"
   ]
  },
  {
   "cell_type": "code",
   "execution_count": 5,
   "id": "determined-breathing",
   "metadata": {},
   "outputs": [],
   "source": [
    "app = FastAPI()"
   ]
  },
  {
   "cell_type": "code",
   "execution_count": 19,
   "id": "perceived-patrick",
   "metadata": {},
   "outputs": [
    {
     "name": "stdout",
     "output_type": "stream",
     "text": [
      "/Users/juanmartinelorriaga/Documents/repositorios/search_engine/search_engine/notebooks\n"
     ]
    }
   ],
   "source": []
  },
  {
   "cell_type": "code",
   "execution_count": 22,
   "id": "understood-notebook",
   "metadata": {},
   "outputs": [],
   "source": [
    "@app.get(\"/\")\n",
    "async def get_query(q: str, query_by: str):\n",
    "    client = typesense.Client({\n",
    "    'nodes': [{\n",
    "    'host': 'axb2vlh0spjudi31p-1.a1.typesense.net',  # For Typesense Cloud use xxx.a1.typesense.net\n",
    "    'port': '443',       # For Typesense Cloud use 443\n",
    "    'protocol': 'https'    # For Typesense Cloud use https\n",
    "  }],\n",
    "  'api_key': \"JpzBUlniOxrDTZrbnu4C3JYwPVM17XTq\"\n",
    "  #'connection_timeout_seconds': 2\n",
    "})\n",
    "    return client.collections['products'].documents.search({\n",
    "    'q': q,\n",
    "    'query_by': query_by\n",
    "})"
   ]
  },
  {
   "cell_type": "code",
   "execution_count": null,
   "id": "charitable-feelings",
   "metadata": {},
   "outputs": [],
   "source": []
  },
  {
   "cell_type": "code",
   "execution_count": null,
   "id": "refined-college",
   "metadata": {},
   "outputs": [],
   "source": []
  },
  {
   "cell_type": "code",
   "execution_count": null,
   "id": "gothic-combining",
   "metadata": {},
   "outputs": [],
   "source": []
  },
  {
   "cell_type": "code",
   "execution_count": null,
   "id": "significant-development",
   "metadata": {},
   "outputs": [],
   "source": []
  },
  {
   "cell_type": "code",
   "execution_count": null,
   "id": "corrected-keeping",
   "metadata": {},
   "outputs": [],
   "source": []
  },
  {
   "cell_type": "code",
   "execution_count": null,
   "id": "signed-horizontal",
   "metadata": {},
   "outputs": [],
   "source": []
  },
  {
   "cell_type": "code",
   "execution_count": null,
   "id": "uniform-fleece",
   "metadata": {},
   "outputs": [],
   "source": []
  },
  {
   "cell_type": "code",
   "execution_count": null,
   "id": "severe-greeting",
   "metadata": {},
   "outputs": [],
   "source": []
  },
  {
   "cell_type": "code",
   "execution_count": 17,
   "id": "hungry-performance",
   "metadata": {},
   "outputs": [
    {
     "data": {
      "text/plain": [
       "{'facet_counts': [],\n",
       " 'found': 3,\n",
       " 'hits': [{'document': {'About Products': 'Make sure this fits by entering your model number. | Snap circuits mini kits classpack provides basic electronic circuitry activities for students in grades 2-6 | Includes 5 separate mini building kits- an FM radio, a motion detector, music box, space battle sound effects, and a flying saucer | Each kit includes separate components and instructions to build | Each component represents one function in a circuit; components snap together to create working models of everyday electronic devices | Activity guide provides additional projects to teach students how circuitry works',\n",
       "    'Brand Name': '',\n",
       "    'Category': 'Toys & Games | Learning & Education | Science Kits & Toys',\n",
       "    'Color': '',\n",
       "    'Product Details': '',\n",
       "    'Product Name': 'Electronic Snap Circuits Mini Kits Classpack, FM Radio, Motion Detector, Music Box (Set of 5)',\n",
       "    'Quantity': 0,\n",
       "    'Selling Price': '$99.95',\n",
       "    'Uniq Id': '66d49bbed043f5be260fa9f7fbff5957',\n",
       "    'id': '36248'},\n",
       "   'highlights': [{'field': 'Uniq Id',\n",
       "     'matched_tokens': ['66d49bbed043f5be260fa9f7fbff5957'],\n",
       "     'snippet': '<mark>66d49bbed043f5be260fa9f7fbff5957</mark>'}],\n",
       "   'text_match': 130916},\n",
       "  {'document': {'About Products': 'Make sure this fits by entering your model number. | Snap circuits mini kits classpack provides basic electronic circuitry activities for students in grades 2-6 | Includes 5 separate mini building kits- an FM radio, a motion detector, music box, space battle sound effects, and a flying saucer | Each kit includes separate components and instructions to build | Each component represents one function in a circuit; components snap together to create working models of everyday electronic devices | Activity guide provides additional projects to teach students how circuitry works',\n",
       "    'Brand Name': '',\n",
       "    'Category': 'Toys & Games | Learning & Education | Science Kits & Toys',\n",
       "    'Color': '',\n",
       "    'Product Details': '',\n",
       "    'Product Name': 'Electronic Snap Circuits Mini Kits Classpack, FM Radio, Motion Detector, Music Box (Set of 5)',\n",
       "    'Quantity': 0,\n",
       "    'Selling Price': '$99.95',\n",
       "    'Uniq Id': '66d49bbed043f5be260fa9f7fbff5957',\n",
       "    'id': '36228'},\n",
       "   'highlights': [{'field': 'Uniq Id',\n",
       "     'matched_tokens': ['66d49bbed043f5be260fa9f7fbff5957'],\n",
       "     'snippet': '<mark>66d49bbed043f5be260fa9f7fbff5957</mark>'}],\n",
       "   'text_match': 130916},\n",
       "  {'document': {'About Products': 'Make sure this fits by e…nts how circuitry works',\n",
       "    'Brand Name': 'ESC',\n",
       "    'Category': 'Toys & Games | Learning …n | Science Kits & Toys',\n",
       "    'Color': 'Blue',\n",
       "    'Product Details': '',\n",
       "    'Product Name': 'Electronic Snap Circuits…r, Music Box (Set of 5)',\n",
       "    'Quantity': 0,\n",
       "    'Selling Price': '$99.95',\n",
       "    'Uniq Id': '66d49bbed043f5be260fa9f7fbff5957',\n",
       "    'id': '0'},\n",
       "   'highlights': [{'field': 'Uniq Id',\n",
       "     'matched_tokens': ['66d49bbed043f5be260fa9f7fbff5957'],\n",
       "     'snippet': '<mark>66d49bbed043f5be260fa9f7fbff5957</mark>'}],\n",
       "   'text_match': 130916}],\n",
       " 'out_of': 9991,\n",
       " 'page': 1,\n",
       " 'request_params': {'collection_name': 'products',\n",
       "  'per_page': 10,\n",
       "  'q': '66d49bbed043f5be260fa9f7fbff5957'},\n",
       " 'search_time_ms': 3}"
      ]
     },
     "execution_count": 17,
     "metadata": {},
     "output_type": "execute_result"
    }
   ],
   "source": []
  },
  {
   "cell_type": "code",
   "execution_count": null,
   "id": "earned-potato",
   "metadata": {},
   "outputs": [],
   "source": []
  }
 ],
 "metadata": {
  "kernelspec": {
   "display_name": "Python 3",
   "language": "python",
   "name": "python3"
  },
  "language_info": {
   "codemirror_mode": {
    "name": "ipython",
    "version": 3
   },
   "file_extension": ".py",
   "mimetype": "text/x-python",
   "name": "python",
   "nbconvert_exporter": "python",
   "pygments_lexer": "ipython3",
   "version": "3.8.8"
  }
 },
 "nbformat": 4,
 "nbformat_minor": 5
}
