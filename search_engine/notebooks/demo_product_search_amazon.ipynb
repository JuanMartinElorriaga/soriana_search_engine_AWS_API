{
 "cells": [
  {
   "cell_type": "code",
   "execution_count": 4,
   "id": "boxed-anthony",
   "metadata": {},
   "outputs": [],
   "source": [
    "import pandas as pd\n",
    "import numpy as np\n",
    "import typesense"
   ]
  },
  {
   "cell_type": "code",
   "execution_count": null,
   "id": "chicken-stylus",
   "metadata": {},
   "outputs": [],
   "source": [
    "path_csv = \"search_engine/data/external/Amazon_products_sample.csv\"\n",
    "df = pd.read_csv(path_csv)\n",
    "df.shape"
   ]
  },
  {
   "cell_type": "code",
   "execution_count": null,
   "id": "concerned-corrections",
   "metadata": {},
   "outputs": [],
   "source": [
    "df2 = df[[\"Uniq Id\", \"Product Name\", \"Brand Name\", \"Category\", \"Quantity\", \"Selling Price\", \"Color\", \"Product Details\", \"About Product\"]]\n",
    "df2.head(2)"
   ]
  },
  {
   "cell_type": "code",
   "execution_count": null,
   "id": "colored-conversation",
   "metadata": {},
   "outputs": [],
   "source": [
    "df2[\"Selling Price\"].dtype"
   ]
  },
  {
   "cell_type": "code",
   "execution_count": null,
   "id": "exclusive-indicator",
   "metadata": {},
   "outputs": [],
   "source": [
    "df2.to_csv(\"search_engine/data/external/amazon_mini_sample.csv\", index=False)\n",
    "df2.to_json(\"search_engine/data/external/amazon_mini_sample.jl\", orient=\"records\", lines=True)"
   ]
  },
  {
   "cell_type": "markdown",
   "id": "finished-shelf",
   "metadata": {},
   "source": [
    "## Typesense\n",
    "- api_key: '7G7b6NZBlJpC9RIcNMRJyxudS0FvhlYq',\n",
    "- cluster: 'pkzwyr9d2imu0xbop-1'"
   ]
  },
  {
   "cell_type": "code",
   "execution_count": 2,
   "id": "chronic-ranking",
   "metadata": {},
   "outputs": [
    {
     "ename": "NameError",
     "evalue": "name 'typesense' is not defined",
     "output_type": "error",
     "traceback": [
      "\u001b[0;31m---------------------------------------------------------------------------\u001b[0m",
      "\u001b[0;31mNameError\u001b[0m                                 Traceback (most recent call last)",
      "\u001b[0;32m<ipython-input-2-67d33c839ba4>\u001b[0m in \u001b[0;36m<module>\u001b[0;34m\u001b[0m\n\u001b[0;32m----> 1\u001b[0;31m client = typesense.Client({\n\u001b[0m\u001b[1;32m      2\u001b[0m   'nodes': [{\n\u001b[1;32m      3\u001b[0m     \u001b[0;34m'host'\u001b[0m\u001b[0;34m:\u001b[0m \u001b[0;34m'axb2vlh0spjudi31p-1.a1.typesense.net'\u001b[0m\u001b[0;34m,\u001b[0m  \u001b[0;31m# For Typesense Cloud use xxx.a1.typesense.net\u001b[0m\u001b[0;34m\u001b[0m\u001b[0;34m\u001b[0m\u001b[0m\n\u001b[1;32m      4\u001b[0m     \u001b[0;34m'port'\u001b[0m\u001b[0;34m:\u001b[0m \u001b[0;34m'443'\u001b[0m\u001b[0;34m,\u001b[0m       \u001b[0;31m# For Typesense Cloud use 443\u001b[0m\u001b[0;34m\u001b[0m\u001b[0;34m\u001b[0m\u001b[0m\n\u001b[1;32m      5\u001b[0m     \u001b[0;34m'protocol'\u001b[0m\u001b[0;34m:\u001b[0m \u001b[0;34m'https'\u001b[0m    \u001b[0;31m# For Typesense Cloud use https\u001b[0m\u001b[0;34m\u001b[0m\u001b[0;34m\u001b[0m\u001b[0m\n",
      "\u001b[0;31mNameError\u001b[0m: name 'typesense' is not defined"
     ]
    }
   ],
   "source": [
    "client = typesense.Client({\n",
    "  'nodes': [{\n",
    "    'host': 'axb2vlh0spjudi31p-1.a1.typesense.net',  # For Typesense Cloud use xxx.a1.typesense.net\n",
    "    'port': '443',       # For Typesense Cloud use 443\n",
    "    'protocol': 'https'    # For Typesense Cloud use https\n",
    "  }],\n",
    "  'api_key': \"JpzBUlniOxrDTZrbnu4C3JYwPVM17XTq\"\n",
    "  #'connection_timeout_seconds': 2\n",
    "})"
   ]
  },
  {
   "cell_type": "code",
   "execution_count": 3,
   "id": "fresh-prime",
   "metadata": {},
   "outputs": [
    {
     "ename": "NameError",
     "evalue": "name 'client' is not defined",
     "output_type": "error",
     "traceback": [
      "\u001b[0;31m---------------------------------------------------------------------------\u001b[0m",
      "\u001b[0;31mNameError\u001b[0m                                 Traceback (most recent call last)",
      "\u001b[0;32m<ipython-input-3-ae7a2aeb5997>\u001b[0m in \u001b[0;36m<module>\u001b[0;34m\u001b[0m\n\u001b[0;32m----> 1\u001b[0;31m print(client.collections['products'].documents.search({\n\u001b[0m\u001b[1;32m      2\u001b[0m     \u001b[0;34m'q'\u001b[0m\u001b[0;34m:\u001b[0m \u001b[0;34m'66d49bbed043f5be260fa9f7fbff5957'\u001b[0m\u001b[0;34m,\u001b[0m\u001b[0;34m\u001b[0m\u001b[0;34m\u001b[0m\u001b[0m\n\u001b[1;32m      3\u001b[0m     \u001b[0;34m'query_by'\u001b[0m\u001b[0;34m:\u001b[0m \u001b[0;34m'Uniq Id'\u001b[0m\u001b[0;34m\u001b[0m\u001b[0;34m\u001b[0m\u001b[0m\n\u001b[1;32m      4\u001b[0m }))\n",
      "\u001b[0;31mNameError\u001b[0m: name 'client' is not defined"
     ]
    }
   ],
   "source": [
    "print(client.collections['products'].documents.search({\n",
    "    'q': '66d49bbed043f5be260fa9f7fbff5957',\n",
    "    'query_by': 'Uniq Id'\n",
    "}))"
   ]
  },
  {
   "cell_type": "code",
   "execution_count": 4,
   "id": "departmental-campus",
   "metadata": {},
   "outputs": [
    {
     "ename": "NameError",
     "evalue": "name 'client' is not defined",
     "output_type": "error",
     "traceback": [
      "\u001b[0;31m---------------------------------------------------------------------------\u001b[0m",
      "\u001b[0;31mNameError\u001b[0m                                 Traceback (most recent call last)",
      "\u001b[0;32m<ipython-input-4-61dd8315a479>\u001b[0m in \u001b[0;36m<module>\u001b[0;34m\u001b[0m\n\u001b[1;32m      6\u001b[0m })\n\u001b[1;32m      7\u001b[0m \u001b[0;34m\u001b[0m\u001b[0m\n\u001b[0;32m----> 8\u001b[0;31m \u001b[0mget_query\u001b[0m\u001b[0;34m(\u001b[0m\u001b[0;34m'66d49bbed043f5be260fa9f7fbff5957'\u001b[0m\u001b[0;34m,\u001b[0m \u001b[0;34m'Uniq Id'\u001b[0m\u001b[0;34m)\u001b[0m\u001b[0;34m\u001b[0m\u001b[0;34m\u001b[0m\u001b[0m\n\u001b[0m",
      "\u001b[0;32m<ipython-input-4-61dd8315a479>\u001b[0m in \u001b[0;36mget_query\u001b[0;34m(q, query_by)\u001b[0m\n\u001b[1;32m      1\u001b[0m \u001b[0;31m# SEARCH QUERY\u001b[0m\u001b[0;34m\u001b[0m\u001b[0;34m\u001b[0m\u001b[0;34m\u001b[0m\u001b[0m\n\u001b[1;32m      2\u001b[0m \u001b[0;32mdef\u001b[0m \u001b[0mget_query\u001b[0m\u001b[0;34m(\u001b[0m\u001b[0mq\u001b[0m\u001b[0;34m,\u001b[0m \u001b[0mquery_by\u001b[0m\u001b[0;34m)\u001b[0m\u001b[0;34m:\u001b[0m\u001b[0;34m\u001b[0m\u001b[0;34m\u001b[0m\u001b[0m\n\u001b[0;32m----> 3\u001b[0;31m      return client.collections['products'].documents.search({\n\u001b[0m\u001b[1;32m      4\u001b[0m     \u001b[0;34m'q'\u001b[0m\u001b[0;34m:\u001b[0m \u001b[0mq\u001b[0m\u001b[0;34m,\u001b[0m\u001b[0;34m\u001b[0m\u001b[0;34m\u001b[0m\u001b[0m\n\u001b[1;32m      5\u001b[0m     \u001b[0;34m'query_by'\u001b[0m\u001b[0;34m:\u001b[0m \u001b[0mquery_by\u001b[0m\u001b[0;34m\u001b[0m\u001b[0;34m\u001b[0m\u001b[0m\n",
      "\u001b[0;31mNameError\u001b[0m: name 'client' is not defined"
     ]
    }
   ],
   "source": [
    "# SEARCH QUERY\n",
    "def get_query(q, query_by):\n",
    "     return client.collections['products'].documents.search({\n",
    "    'q': q,\n",
    "    'query_by': query_by\n",
    "})\n",
    "    \n",
    "get_query('66d49bbed043f5be260fa9f7fbff5957', 'Uniq Id')"
   ]
  },
  {
   "cell_type": "code",
   "execution_count": null,
   "id": "flying-cotton",
   "metadata": {},
   "outputs": [],
   "source": []
  }
 ],
 "metadata": {
  "kernelspec": {
   "display_name": "Python 3",
   "language": "python",
   "name": "python3"
  },
  "language_info": {
   "codemirror_mode": {
    "name": "ipython",
    "version": 3
   },
   "file_extension": ".py",
   "mimetype": "text/x-python",
   "name": "python",
   "nbconvert_exporter": "python",
   "pygments_lexer": "ipython3",
   "version": "3.8.8"
  }
 },
 "nbformat": 4,
 "nbformat_minor": 5
}
